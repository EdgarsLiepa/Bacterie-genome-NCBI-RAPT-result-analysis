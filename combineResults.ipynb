{
 "cells": [
  {
   "cell_type": "markdown",
   "metadata": {},
   "source": [
    "# Description\n",
    "\n",
    "Create summary from NCBI RAPT pipeline results files.\n",
    "\n",
    "**IN:** Result folders from NCBI RAPT pipline with:\n",
    "- assembly_stat_report.tsv\n",
    "- annot.gbk\n",
    "- ani-tax-report.xml\n",
    "\n",
    "**Out:**\n",
    "    CSV summary"
   ]
  },
  {
   "cell_type": "markdown",
   "metadata": {},
   "source": [
    "**Author:** Edgars Liepa\n",
    "\n",
    "**Email:** edgars.liepa@biomed.lu.lv\n",
    "\n",
    "Developed at Latvian Biomedical Research and Study center\n",
    "\n",
    "03.11.2022"
   ]
  },
  {
   "cell_type": "code",
   "execution_count": 21,
   "metadata": {},
   "outputs": [
    {
     "name": "stdout",
     "output_type": "stream",
     "text": [
      "./.git/logs/refs/remotes/origin\n",
      "./.git/logs/refs/heads\n",
      "./.git/logs/refs/remotes\n",
      "./.git/logs/refs\n",
      "./.git/objects/pack\n",
      "./.git/objects/20\n",
      "./.git/objects/info\n",
      "./.git/objects/22\n",
      "./.git/objects/d3\n",
      "./.git/refs/remotes/origin\n",
      "./.git/refs/heads\n",
      "./.git/refs/remotes\n",
      "./.git/refs/tags\n",
      "./.git/logs\n",
      "./.git/hooks\n",
      "./.git/branches\n",
      "./.git/objects\n",
      "./.git/info\n",
      "./.git/refs\n",
      "./557259f-w06-e272_output\n",
      "./41c95d3-5sy-4c24_output\n",
      "./9095857-87h-bf63_output\n",
      "./1c93b92-daa-0119_output\n",
      "./c6376e7-zs3-f15e_output\n",
      "./9f88d34-den-f79d_output\n",
      "./14030d9-c6s-2d8b_output\n",
      "./0d0a7f5-ohp-5f3f_output\n",
      "./299ef09-kfr-1d26_output\n",
      "./20670e9-ygs-94d0_output\n",
      "./65e1f2c-266-3d1c_output\n",
      "./2bccc4b-h24-b74f_output\n",
      "./9c12216-8k1-c82a_output\n",
      "./ceeec5e-wku-15fe_output\n",
      "./95ed6de-u4q-0073_output\n",
      "./ebada13-1sc-998b_output\n",
      "./1a7b916-oyi-74d4_output\n",
      "./584b677-23z-4771_output\n",
      "./4284c3c-28h-6025_output\n",
      "./3dc10cd-rma-91cd_output\n",
      "./bab69c5-y4f-1d90_output\n",
      "./9bbd667-cdx-18d2_output\n",
      "./4064a86-wfd-7fdf_output\n",
      "./4a77690-ln9-205f_output\n",
      "./06543a2-xjb-58b4_output\n",
      "./de99f17-h2m-9975_output\n",
      "./3a960cc-z7g-6efb_output\n",
      "./a128c84-v7q-266f_output\n",
      "./.git\n",
      "./5fcf272-f3y-4925_output\n",
      "./9289583-236-4b70_output\n",
      "./ab5ce9f-ki7-eb16_output\n",
      "./ac828eb-jdv-3aee_output\n",
      "./deca316-tnh-9af8_output\n"
     ]
    }
   ],
   "source": [
    "# Get list of foldes in local directory with sample results\n",
    "import os\n",
    "for root, dirs, files in os.walk(\".\", topdown=False):\n",
    "   # for name in files:\n",
    "   #    print(os.path.join(root, name))\n",
    "   for name in dirs:\n",
    "      print(os.path.join(root, name))"
   ]
  },
  {
   "cell_type": "markdown",
   "metadata": {},
   "source": [
    "## Get assembly stats\n",
    "From assembly_stat_report.tsv get:\n",
    "- Total sequence count"
   ]
  },
  {
   "cell_type": "code",
   "execution_count": 9,
   "metadata": {},
   "outputs": [],
   "source": [
    "import pandas as pd\n",
    "\n",
    "def assembly(root, name):\n",
    "\n",
    "    assembly_stat = pd.read_csv(os.path.join(root, name)+'/assembly_stat_report.tsv', sep=\"\t\")\n",
    "\n",
    "    return assembly_stat[\"Total_seqs\"][0], assembly_stat[\"Total_len(bp)\"][0]\n"
   ]
  },
  {
   "cell_type": "markdown",
   "metadata": {},
   "source": [
    "## Get longest conting"
   ]
  },
  {
   "cell_type": "code",
   "execution_count": 10,
   "metadata": {},
   "outputs": [],
   "source": [
    "def getContig(root, name, longest_contig):\n",
    "\n",
    "    from Bio import SeqIO\n",
    "    \n",
    "    for seq_record in SeqIO.parse(os.path.join(root, name)+'/annot.gbk', \"genbank\"):\n",
    "        if (longest_contig == len(seq_record)):\n",
    "            return seq_record\n",
    "    \n",
    "    return 0"
   ]
  },
  {
   "cell_type": "markdown",
   "metadata": {},
   "source": [
    "## Get predicted taxa\n",
    "\n",
    "Parse ani-tax-report.xml from NCBI RAPT results and get predicted bacteria taxonomical name"
   ]
  },
  {
   "cell_type": "code",
   "execution_count": 11,
   "metadata": {},
   "outputs": [],
   "source": [
    "from lxml import etree\n",
    "\n",
    "def getTaxa(root, name):\n",
    "\n",
    "    if \".git/\" in os.path.join(root, name):\n",
    "            return\n",
    "    tree = etree.parse(os.path.join(root, name)+'/ani-tax-report.xml')\n",
    "\n",
    "    # print(len(tree.error_log))\n",
    "    tree.getroot()\n",
    "\n",
    "    result = etree.tostring(tree.getroot(),pretty_print=True, method=\"html\")\n",
    "    result\n",
    "\n",
    "    submitted_taxid = tree.getroot()[0][0]\n",
    "    predicted_taxid = tree.getroot()[0][1]\n",
    "    \n",
    "    return submitted_taxid, predicted_taxid, tree.getroot()[1][0].get(\"ANI\"), tree.getroot()[1][0].get(\"query_pct_coverage\")"
   ]
  },
  {
   "cell_type": "markdown",
   "metadata": {},
   "source": [
    "## Create summary files"
   ]
  },
  {
   "cell_type": "code",
   "execution_count": 29,
   "metadata": {},
   "outputs": [
    {
     "name": "stdout",
     "output_type": "stream",
     "text": [
      "parse: ./557259f-w06-e272_output\n",
      "submitted-taxid : Bacillus pumilus (species)\n",
      "predicted-taxid : Bacillus pumilus (species)\n",
      "734 3781760\n",
      "parse: ./41c95d3-5sy-4c24_output\n",
      "submitted-taxid : Pseudomonas fluorescens (species)\n",
      "predicted-taxid : Pseudomonas kilonensis (species)\n",
      "581 6447964\n",
      "parse: ./9095857-87h-bf63_output\n",
      "submitted-taxid : Streptomyces (genus)\n",
      "predicted-taxid : [Kitasatospora] papulosa (species)\n",
      "2433 7258651\n",
      "parse: ./1c93b92-daa-0119_output\n",
      "submitted-taxid : Streptomyces (genus)\n",
      "predicted-taxid : Streptomyces albidoflavus (species)\n",
      "2769 6595709\n",
      "parse: ./c6376e7-zs3-f15e_output\n",
      "submitted-taxid : Streptomyces (genus)\n",
      "predicted-taxid : Streptomyces griseus (species)\n",
      "1658 8249253\n",
      "parse: ./9f88d34-den-f79d_output\n",
      "submitted-taxid : Bacillus (genus)\n",
      "predicted-taxid : Bacillus altitudinis (species)\n",
      "151 3718059\n",
      "parse: ./14030d9-c6s-2d8b_output\n",
      "submitted-taxid : Bacillus (genus)\n",
      "predicted-taxid : Bacillus subtilis (species)\n",
      "214 4272100\n",
      "parse: ./0d0a7f5-ohp-5f3f_output\n",
      "submitted-taxid : Bacillus (genus)\n",
      "predicted-taxid : Bacillus cereus (species)\n",
      "1804 6207547\n",
      "parse: ./299ef09-kfr-1d26_output\n",
      "submitted-taxid : Bacillus (genus)\n",
      "predicted-taxid : Bacillus subtilis (species)\n",
      "44 4283602\n",
      "parse: ./20670e9-ygs-94d0_output\n",
      "submitted-taxid : Pseudomonas (genus)\n",
      "predicted-taxid : Pseudomonas lini (species)\n",
      "203 6557178\n",
      "parse: ./65e1f2c-266-3d1c_output\n",
      "submitted-taxid : Streptomyces (genus)\n",
      "predicted-taxid : Streptomyces griseus (species)\n",
      "3997 7574829\n",
      "parse: ./2bccc4b-h24-b74f_output\n",
      "submitted-taxid : Streptomyces (genus)\n",
      "predicted-taxid : Streptomyces anthocyanicus (species)\n",
      "2505 7794740\n",
      "parse: ./9c12216-8k1-c82a_output\n",
      "submitted-taxid : Streptomyces (genus)\n",
      "predicted-taxid : Streptomyces variabilis (species)\n",
      "1300 7218568\n",
      "parse: ./ceeec5e-wku-15fe_output\n",
      "submitted-taxid : Streptomyces (genus)\n",
      "predicted-taxid : Streptomyces griseus (species)\n",
      "2203 8144651\n",
      "parse: ./95ed6de-u4q-0073_output\n",
      "submitted-taxid : Streptomyces (genus)\n",
      "predicted-taxid : [Kitasatospora] papulosa (species)\n",
      "5424 6229944\n",
      "parse: ./ebada13-1sc-998b_output\n",
      "submitted-taxid : Streptomyces (genus)\n",
      "predicted-taxid : Streptomyces griseus (species)\n",
      "2697 7924324\n",
      "parse: ./1a7b916-oyi-74d4_output\n",
      "submitted-taxid : Bacillus (genus)\n",
      "predicted-taxid : Bacillus spizizenii (species)\n",
      "85 3980239\n",
      "parse: ./584b677-23z-4771_output\n",
      "submitted-taxid : Streptomyces (genus)\n",
      "predicted-taxid : Streptomyces griseus (species)\n",
      "1725 8240237\n",
      "parse: ./4284c3c-28h-6025_output\n",
      "submitted-taxid : Bacillus (genus)\n",
      "predicted-taxid : Bacillus subtilis (species)\n",
      "425 4234180\n",
      "parse: ./3dc10cd-rma-91cd_output\n",
      "submitted-taxid : Streptomyces (genus)\n",
      "predicted-taxid : Streptomyces anthocyanicus (species)\n",
      "4581 7753991\n",
      "parse: ./bab69c5-y4f-1d90_output\n",
      "submitted-taxid : Streptomyces (genus)\n",
      "predicted-taxid : Streptomyces albidoflavus (species)\n",
      "2705 6525482\n",
      "parse: ./9bbd667-cdx-18d2_output\n",
      "submitted-taxid : Bacillus (genus)\n",
      "predicted-taxid : Bacillus subtilis (species)\n",
      "165 4270636\n",
      "parse: ./4064a86-wfd-7fdf_output\n",
      "submitted-taxid : Pseudomonas (genus)\n",
      "predicted-taxid : Pseudomonas lini (species)\n",
      "128 6366011\n",
      "parse: ./4a77690-ln9-205f_output\n",
      "submitted-taxid : Streptomyces (genus)\n",
      "predicted-taxid : [Kitasatospora] papulosa (species)\n",
      "1295 7267758\n",
      "parse: ./06543a2-xjb-58b4_output\n",
      "submitted-taxid : Pseudomonas fluorescens (species)\n",
      "predicted-taxid : Pseudomonas fluorescens (species)\n",
      "308 6957959\n",
      "parse: ./de99f17-h2m-9975_output\n",
      "submitted-taxid : Pseudomonas (genus)\n",
      "predicted-taxid : Pseudomonas proteolytica (species)\n",
      "224 5932467\n",
      "parse: ./3a960cc-z7g-6efb_output\n",
      "submitted-taxid : Bacillus (genus)\n",
      "predicted-taxid : Pseudomonas lini (species)\n",
      "128 6366011\n",
      "parse: ./a128c84-v7q-266f_output\n",
      "submitted-taxid : Streptomyces (genus)\n",
      "predicted-taxid : Streptomyces hydrogenans (species)\n",
      "3612 8294089\n",
      "parse: ./5fcf272-f3y-4925_output\n",
      "submitted-taxid : Streptomyces (genus)\n",
      "other-taxid : Streptomyces griseus (species)\n",
      "9712 11783025\n",
      "parse: ./9289583-236-4b70_output\n",
      "submitted-taxid : Streptomyces (genus)\n",
      "predicted-taxid : Streptomyces griseus (species)\n",
      "3213 7899999\n",
      "parse: ./ab5ce9f-ki7-eb16_output\n",
      "submitted-taxid : Chromobacterium (genus)\n",
      "predicted-taxid : Chromobacterium sphagni (species)\n",
      "299 5045694\n",
      "parse: ./ac828eb-jdv-3aee_output\n",
      "submitted-taxid : Bacillus (genus)\n",
      "predicted-taxid : Bacillus subtilis (species)\n",
      "112 4279089\n",
      "parse: ./deca316-tnh-9af8_output\n",
      "submitted-taxid : Pseudomonas (genus)\n",
      "predicted-taxid : Pseudomonas lundensis (species)\n",
      "172 4647614\n"
     ]
    }
   ],
   "source": [
    "# Print Results\n",
    "import csv\n",
    "import sys\n",
    "import os\n",
    "\n",
    "header = ['Sample Name','predicted_taxid (NCBI)', 'submitted_taxid (Kraken)', 'Predicted taxa confidance', 'Average Nucleotide Identity (ANI)' , \"query_pct_coverage\", 'Conting Count', 'Total Sequence Length',] # 'CDSs', 'rRNAs']\n",
    "\n",
    "# create DataFrame with samples names and result ID_s\n",
    "file_names = pd.read_csv('NCBI_rez_names.csv', sep=\",\")\n",
    "\n",
    "with open('anotationStat.csv', 'w', encoding='UTF8', newline='') as f:\n",
    "    writer = csv.writer(f)\n",
    "    writer.writerow(header)\n",
    "\n",
    "    for root, dirs, files in os.walk(\".\", topdown=False):\n",
    "        for name in dirs:\n",
    "\n",
    "            # os.walk includes .git subdirectories. Only RAPT result folders needed, so rest should be ignored\n",
    "            if \".git\" in os.path.join(root, name):\n",
    "                continue\n",
    "\n",
    "            print('parse:',os.path.join(root, name))\n",
    "            \n",
    "            submitted_taxid, predicted_taxid, ani, query_pct_coverage = getTaxa(root, name)\n",
    "            print(submitted_taxid.tag, \":\", submitted_taxid.get(\"org-name\"), \"({})\".format(submitted_taxid.get(\"rank\")))\n",
    "            print(predicted_taxid.tag, \":\", predicted_taxid.get(\"org-name\"), \"({})\".format(predicted_taxid.get(\"rank\")))\n",
    "            \n",
    "            totelSeq, total_seq_len = assembly(root, name)\n",
    "\n",
    "            print(totelSeq, total_seq_len)\n",
    "\n",
    "\n",
    "            # seq_record = getContig(root, name, longest_contig)\n",
    "            \n",
    "            writer.writerow([file_names.loc[file_names['NCBI RAPT NAME'] == name]['SAMPLE NAME'].item(),predicted_taxid.get(\"org-name\"), submitted_taxid.get(\"org-name\"), predicted_taxid.get(\"confidence\"), ani, query_pct_coverage, totelSeq, total_seq_len ])\n",
    "\n",
    "            "
   ]
  },
  {
   "cell_type": "markdown",
   "metadata": {},
   "source": [
    "## Get gene products\n",
    "\n",
    "Parse .gbk file and extract Gene; CDS; rRNA; tRNA; ncRNA; products"
   ]
  },
  {
   "cell_type": "code",
   "execution_count": 2,
   "metadata": {},
   "outputs": [
    {
     "ename": "NameError",
     "evalue": "name 'csv' is not defined",
     "output_type": "error",
     "traceback": [
      "\u001b[0;31m---------------------------------------------------------------------------\u001b[0m",
      "\u001b[0;31mNameError\u001b[0m                                 Traceback (most recent call last)",
      "\u001b[0;32m/tmp/ipykernel_478304/2988038277.py\u001b[0m in \u001b[0;36m<module>\u001b[0;34m\u001b[0m\n\u001b[1;32m     12\u001b[0m \u001b[0;34m\u001b[0m\u001b[0m\n\u001b[1;32m     13\u001b[0m         \u001b[0;32mwith\u001b[0m \u001b[0mopen\u001b[0m\u001b[0;34m(\u001b[0m\u001b[0mos\u001b[0m\u001b[0;34m.\u001b[0m\u001b[0mpath\u001b[0m\u001b[0;34m.\u001b[0m\u001b[0mjoin\u001b[0m\u001b[0;34m(\u001b[0m\u001b[0mroot\u001b[0m\u001b[0;34m,\u001b[0m \u001b[0mname\u001b[0m\u001b[0;34m)\u001b[0m\u001b[0;34m+\u001b[0m\u001b[0;34m'/geneProducts.csv'\u001b[0m\u001b[0;34m,\u001b[0m \u001b[0;34m'w'\u001b[0m\u001b[0;34m,\u001b[0m \u001b[0mencoding\u001b[0m\u001b[0;34m=\u001b[0m\u001b[0;34m'UTF8'\u001b[0m\u001b[0;34m,\u001b[0m \u001b[0mnewline\u001b[0m\u001b[0;34m=\u001b[0m\u001b[0;34m''\u001b[0m\u001b[0;34m)\u001b[0m \u001b[0;32mas\u001b[0m \u001b[0mf\u001b[0m\u001b[0;34m:\u001b[0m\u001b[0;34m\u001b[0m\u001b[0;34m\u001b[0m\u001b[0m\n\u001b[0;32m---> 14\u001b[0;31m             \u001b[0mwriter\u001b[0m \u001b[0;34m=\u001b[0m \u001b[0mcsv\u001b[0m\u001b[0;34m.\u001b[0m\u001b[0mwriter\u001b[0m\u001b[0;34m(\u001b[0m\u001b[0mf\u001b[0m\u001b[0;34m)\u001b[0m\u001b[0;34m\u001b[0m\u001b[0;34m\u001b[0m\u001b[0m\n\u001b[0m\u001b[1;32m     15\u001b[0m             \u001b[0;31m# writer.writerow(header)\u001b[0m\u001b[0;34m\u001b[0m\u001b[0;34m\u001b[0m\u001b[0m\n\u001b[1;32m     16\u001b[0m \u001b[0;34m\u001b[0m\u001b[0m\n",
      "\u001b[0;31mNameError\u001b[0m: name 'csv' is not defined"
     ]
    }
   ],
   "source": [
    "import csv\n",
    "import sys\n",
    "import os\n",
    "from Bio import SeqIO\n",
    "\n",
    "# Set First flag to print organism name at the top of the file\n",
    "first = True\n",
    "\n",
    "for root, dirs, files in os.walk(\".\", topdown=False):    \n",
    "    for name in dirs:\n",
    "    \n",
    "        # os.walk includes .git subdirectories. Only RAPT result folders needed, so rest should be ignored\n",
    "        if \".git\" in os.path.join(root, name):\n",
    "            continue\n",
    "    \n",
    "        print('parse:',os.path.join(root, name))\n",
    "        \n",
    "        with open(os.path.join(root, name)+'/geneProducts.csv', 'w', encoding='UTF8', newline='') as f:\n",
    "            \n",
    "            writer = csv.writer(f)\n",
    "            # writer.writerow(header)\n",
    "            \n",
    "            for record in SeqIO.parse(os.path.join(root, name)+'/annot.gbk', \"genbank\"):\n",
    "                \n",
    "                if (first == True):\n",
    "                    writer.writerow([record.annotations['organism'], \"GENES TOTAL: \", record.annotations['structured_comment']['Genome-Annotation-Data']['Genes (total)']])\n",
    "                    first = False\n",
    "                \n",
    "                print(record.id)\n",
    "                writer.writerow([\"Contig ID\",record.id ])\n",
    "            \n",
    "                for feature in record.features:\n",
    "                    if ('product') in feature.qualifiers:\n",
    "                        print(feature.type, feature.qualifiers['product'], feature.location)\n",
    "                        writer.writerow([feature.type,feature.qualifiers['product'], feature.location])\n",
    "\n"
   ]
  },
  {
   "cell_type": "code",
   "execution_count": null,
   "metadata": {},
   "outputs": [
    {
     "ename": "NameError",
     "evalue": "name 'start' is not defined",
     "output_type": "error",
     "traceback": [
      "\u001b[0;31m---------------------------------------------------------------------------\u001b[0m",
      "\u001b[0;31mNameError\u001b[0m                                 Traceback (most recent call last)",
      "\u001b[0;32m/tmp/ipykernel_464917/971772457.py\u001b[0m in \u001b[0;36m<module>\u001b[0;34m\u001b[0m\n\u001b[0;32m----> 1\u001b[0;31m \u001b[0mrecord\u001b[0m \u001b[0;34m==\u001b[0m \u001b[0mstart\u001b[0m\u001b[0;34m(\u001b[0m\u001b[0;34m)\u001b[0m\u001b[0;34m\u001b[0m\u001b[0;34m\u001b[0m\u001b[0m\n\u001b[0m",
      "\u001b[0;31mNameError\u001b[0m: name 'start' is not defined"
     ]
    }
   ],
   "source": [
    "record == start()"
   ]
  },
  {
   "cell_type": "code",
   "execution_count": null,
   "metadata": {},
   "outputs": [
    {
     "ename": "NameError",
     "evalue": "name 'genome_record' is not defined",
     "output_type": "error",
     "traceback": [
      "\u001b[0;31m---------------------------------------------------------------------------\u001b[0m",
      "\u001b[0;31mNameError\u001b[0m                                 Traceback (most recent call last)",
      "\u001b[0;32m/tmp/ipykernel_464917/1961660392.py\u001b[0m in \u001b[0;36m<module>\u001b[0;34m\u001b[0m\n\u001b[0;32m----> 1\u001b[0;31m \u001b[0;32mfor\u001b[0m \u001b[0mrecord\u001b[0m \u001b[0;32min\u001b[0m \u001b[0mgenome_record\u001b[0m\u001b[0;34m:\u001b[0m\u001b[0;34m\u001b[0m\u001b[0;34m\u001b[0m\u001b[0m\n\u001b[0m\u001b[1;32m      2\u001b[0m     \u001b[0;31m# print(record.title)\u001b[0m\u001b[0;34m\u001b[0m\u001b[0;34m\u001b[0m\u001b[0m\n\u001b[1;32m      3\u001b[0m     \u001b[0;32mfor\u001b[0m \u001b[0mfeature\u001b[0m \u001b[0;32min\u001b[0m \u001b[0mrecord\u001b[0m\u001b[0;34m.\u001b[0m\u001b[0mfeatures\u001b[0m\u001b[0;34m:\u001b[0m\u001b[0;34m\u001b[0m\u001b[0;34m\u001b[0m\u001b[0m\n\u001b[1;32m      4\u001b[0m         \u001b[0mprint\u001b[0m\u001b[0;34m(\u001b[0m\u001b[0mfeature\u001b[0m\u001b[0;34m.\u001b[0m\u001b[0mid\u001b[0m\u001b[0;34m)\u001b[0m\u001b[0;34m\u001b[0m\u001b[0;34m\u001b[0m\u001b[0m\n",
      "\u001b[0;31mNameError\u001b[0m: name 'genome_record' is not defined"
     ]
    }
   ],
   "source": [
    "for record in genome_record:\n",
    "    # print(record.title)\n",
    "    for feature in record.features:\n",
    "        print(feature.id)"
   ]
  },
  {
   "cell_type": "code",
   "execution_count": null,
   "metadata": {},
   "outputs": [],
   "source": [
    "for record in genome_record:\n",
    "    for feature in record.features:\n",
    "        print(repr(feature))\n"
   ]
  },
  {
   "cell_type": "code",
   "execution_count": null,
   "metadata": {},
   "outputs": [],
   "source": [
    "# feature location\n",
    "# print(feature.location)\n",
    "\n",
    "# ?feature.qualifiers\n",
    "\n",
    "if 'product' in feature.type:\n",
    "    print(feature.qualifiers['product'])"
   ]
  },
  {
   "cell_type": "code",
   "execution_count": null,
   "metadata": {},
   "outputs": [
    {
     "name": "stdout",
     "output_type": "stream",
     "text": [
      "source\n"
     ]
    }
   ],
   "source": [
    "print(feature.type)"
   ]
  },
  {
   "cell_type": "code",
   "execution_count": null,
   "metadata": {},
   "outputs": [
    {
     "ename": "AttributeError",
     "evalue": "'SeqRecord' object has no attribute 'qualifiers'",
     "output_type": "error",
     "traceback": [
      "\u001b[0;31m---------------------------------------------------------------------------\u001b[0m",
      "\u001b[0;31mAttributeError\u001b[0m                            Traceback (most recent call last)",
      "\u001b[0;32m/tmp/ipykernel_464917/941941365.py\u001b[0m in \u001b[0;36m<module>\u001b[0;34m\u001b[0m\n\u001b[0;32m----> 1\u001b[0;31m \u001b[0mprint\u001b[0m\u001b[0;34m(\u001b[0m\u001b[0mrecord\u001b[0m\u001b[0;34m.\u001b[0m\u001b[0mqualifiers\u001b[0m\u001b[0;34m)\u001b[0m\u001b[0;34m\u001b[0m\u001b[0;34m\u001b[0m\u001b[0m\n\u001b[0m",
      "\u001b[0;31mAttributeError\u001b[0m: 'SeqRecord' object has no attribute 'qualifiers'"
     ]
    }
   ],
   "source": [
    "print(record.qualifiers)"
   ]
  },
  {
   "cell_type": "code",
   "execution_count": null,
   "metadata": {},
   "outputs": [
    {
     "data": {
      "text/plain": [
       "[SeqFeature(FeatureLocation(ExactPosition(0), ExactPosition(339), strand=1), type='source'),\n",
       " SeqFeature(FeatureLocation(BeforePosition(0), AfterPosition(339), strand=-1), type='gene'),\n",
       " SeqFeature(FeatureLocation(BeforePosition(0), AfterPosition(339), strand=-1), type='CDS')]"
      ]
     },
     "execution_count": 34,
     "metadata": {},
     "output_type": "execute_result"
    }
   ],
   "source": [
    "record.features"
   ]
  },
  {
   "cell_type": "code",
   "execution_count": null,
   "metadata": {},
   "outputs": [
    {
     "data": {
      "text/plain": [
       "SeqRecord(seq=Seq('TTTTATGCGTTTCATAATGCCTTGGATTGAAGATGAGCGGAAGTTATCAGAGCC...TAG'), id='Contig_172_5.47962', name='Contig_172_5.47962', description='Pseudomonas chromosome, whole genome shotgun sequence', dbxrefs=[])"
      ]
     },
     "execution_count": 41,
     "metadata": {},
     "output_type": "execute_result"
    }
   ],
   "source": [
    "record"
   ]
  },
  {
   "cell_type": "code",
   "execution_count": null,
   "metadata": {},
   "outputs": [
    {
     "name": "stdout",
     "output_type": "stream",
     "text": [
      "\u001b[0;31mType:\u001b[0m           GenBankIterator\n",
      "\u001b[0;31mString form:\u001b[0m    <Bio.SeqIO.InsdcIO.GenBankIterator object at 0x7f8efb2458a0>\n",
      "\u001b[0;31mFile:\u001b[0m           /usr/lib/python3/dist-packages/Bio/SeqIO/InsdcIO.py\n",
      "\u001b[0;31mDocstring:\u001b[0m      Parser for GenBank files.\n",
      "\u001b[0;31mInit docstring:\u001b[0m\n",
      "Break up a Genbank file into SeqRecord objects.\n",
      "\n",
      "Argument source is a file-like object opened in text mode or a path to a file.\n",
      "Every section from the LOCUS line to the terminating // becomes\n",
      "a single SeqRecord with associated annotation and features.\n",
      "\n",
      "Note that for genomes or chromosomes, there is typically only\n",
      "one record.\n",
      "\n",
      "This gets called internally by Bio.SeqIO for the GenBank file format:\n",
      "\n",
      ">>> from Bio import SeqIO\n",
      ">>> for record in SeqIO.parse(\"GenBank/cor6_6.gb\", \"gb\"):\n",
      "...     print(record.id)\n",
      "...\n",
      "X55053.1\n",
      "X62281.1\n",
      "M81224.1\n",
      "AJ237582.1\n",
      "L31939.1\n",
      "AF297471.1\n",
      "\n",
      "Equivalently,\n",
      "\n",
      ">>> with open(\"GenBank/cor6_6.gb\") as handle:\n",
      "...     for record in GenBankIterator(handle):\n",
      "...         print(record.id)\n",
      "...\n",
      "X55053.1\n",
      "X62281.1\n",
      "M81224.1\n",
      "AJ237582.1\n",
      "L31939.1\n",
      "AF297471.1\n"
     ]
    }
   ],
   "source": [
    "suk = SeqIO.parse(os.path.join(root, name)+'/annot.gbk', \"genbank\")\n",
    "\n",
    "?suk"
   ]
  },
  {
   "cell_type": "code",
   "execution_count": null,
   "metadata": {},
   "outputs": [
    {
     "ename": "TypeError",
     "evalue": "'callable_iterator' object is not subscriptable",
     "output_type": "error",
     "traceback": [
      "\u001b[0;31m---------------------------------------------------------------------------\u001b[0m",
      "\u001b[0;31mTypeError\u001b[0m                                 Traceback (most recent call last)",
      "\u001b[0;32m/tmp/ipykernel_464917/3344743646.py\u001b[0m in \u001b[0;36m<module>\u001b[0;34m\u001b[0m\n\u001b[1;32m      3\u001b[0m     \u001b[0mrec\u001b[0m \u001b[0;34m=\u001b[0m \u001b[0mGenBank\u001b[0m\u001b[0;34m.\u001b[0m\u001b[0mparse\u001b[0m\u001b[0;34m(\u001b[0m\u001b[0mhandle\u001b[0m\u001b[0;34m)\u001b[0m\u001b[0;34m\u001b[0m\u001b[0;34m\u001b[0m\u001b[0m\n\u001b[1;32m      4\u001b[0m \u001b[0;34m\u001b[0m\u001b[0m\n\u001b[0;32m----> 5\u001b[0;31m     \u001b[0mrec\u001b[0m\u001b[0;34m[\u001b[0m\u001b[0;36m1\u001b[0m\u001b[0;34m]\u001b[0m\u001b[0;34m\u001b[0m\u001b[0;34m\u001b[0m\u001b[0m\n\u001b[0m",
      "\u001b[0;31mTypeError\u001b[0m: 'callable_iterator' object is not subscriptable"
     ]
    }
   ],
   "source": [
    "from Bio import GenBank\n",
    "with open(os.path.join(root, name)+'/annot.gbk') as handle:\n",
    "    rec = GenBank.parse(handle)\n",
    "\n",
    "    rec"
   ]
  },
  {
   "cell_type": "code",
   "execution_count": null,
   "metadata": {},
   "outputs": [
    {
     "data": {
      "text/plain": [
       "'4,360'"
      ]
     },
     "execution_count": 59,
     "metadata": {},
     "output_type": "execute_result"
    }
   ],
   "source": [
    "record.annotations['structured_comment']['Genome-Annotation-Data']['Genes (total)']"
   ]
  },
  {
   "cell_type": "code",
   "execution_count": 2,
   "metadata": {},
   "outputs": [],
   "source": [
    "from lxml import etree\n",
    "\n",
    "tree = etree.parse(\"/home/edgars.liepa/Becteria result/0d0a7f5-ohp-5f3f_output/ani-tax-report.xml\")\n",
    "\n",
    "# print(len(tree.error_log))\n",
    "tree.getroot()\n",
    "\n",
    "result = etree.tostring(tree.getroot(),pretty_print=True, method=\"html\")\n",
    "result\n",
    "\n",
    "submitted_taxid = tree.getroot()[0][0]\n",
    "predicted_taxid = tree.getroot()[0][1]\n",
    "    "
   ]
  },
  {
   "cell_type": "code",
   "execution_count": 10,
   "metadata": {},
   "outputs": [
    {
     "name": "stdout",
     "output_type": "stream",
     "text": [
      "HIGH\n"
     ]
    }
   ],
   "source": [
    "print(predicted_taxid.get(\"confidence\"))"
   ]
  },
  {
   "cell_type": "code",
   "execution_count": 28,
   "metadata": {},
   "outputs": [
    {
     "data": {
      "text/plain": [
       "'97.186785402870797'"
      ]
     },
     "execution_count": 28,
     "metadata": {},
     "output_type": "execute_result"
    }
   ],
   "source": [
    "tree.getroot()[1][0].get(\"ANI\")"
   ]
  },
  {
   "cell_type": "code",
   "execution_count": 28,
   "metadata": {},
   "outputs": [
    {
     "name": "stdout",
     "output_type": "stream",
     "text": [
      "VN10_Bacillus subtilis 73\n"
     ]
    }
   ],
   "source": [
    "import pandas as pd\n",
    "\n",
    "\n",
    "file_names = pd.read_csv('NCBI_rez_names.csv', sep=\",\")\n",
    "\n",
    "print(file_names.loc[file_names['NCBI RAPT NAME'] == '557259f-w06-e272_output']['SAMPLE NAME'].item())"
   ]
  },
  {
   "cell_type": "code",
   "execution_count": null,
   "metadata": {},
   "outputs": [],
   "source": []
  }
 ],
 "metadata": {
  "kernelspec": {
   "display_name": "Python 3.10.7 64-bit",
   "language": "python",
   "name": "python3"
  },
  "language_info": {
   "codemirror_mode": {
    "name": "ipython",
    "version": 3
   },
   "file_extension": ".py",
   "mimetype": "text/x-python",
   "name": "python",
   "nbconvert_exporter": "python",
   "pygments_lexer": "ipython3",
   "version": "3.10.7"
  },
  "orig_nbformat": 4,
  "vscode": {
   "interpreter": {
    "hash": "31f2aee4e71d21fbe5cf8b01ff0e069b9275f58929596ceb00d14d90e3e16cd6"
   }
  }
 },
 "nbformat": 4,
 "nbformat_minor": 2
}
