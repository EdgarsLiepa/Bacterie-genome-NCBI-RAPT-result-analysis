{
 "cells": [
  {
   "cell_type": "markdown",
   "metadata": {},
   "source": [
    "# Description\n",
    "\n",
    "Create summary from NCBI RAPT pipeline results files.\n",
    "\n",
    "**IN:** Result folders from NCBI RAPT pipline with:\n",
    "- assembly_stat_report.tsv\n",
    "- annot.gbk\n",
    "- ani-tax-report.xml\n",
    "\n",
    "**Out:**\n",
    "    CSV summary"
   ]
  },
  {
   "cell_type": "markdown",
   "metadata": {},
   "source": [
    "**Author:** Edgars Liepa\n",
    "\n",
    "**Email:** edgars.liepa@biomed.lu.lv\n",
    "\n",
    "Developed at Latvian Biomedical Research and Study center\n",
    "\n",
    "03.11.2022"
   ]
  },
  {
   "cell_type": "code",
   "execution_count": null,
   "metadata": {},
   "outputs": [],
   "source": [
    "# Get list of folders in local directory with sample results\n",
    "import os\n",
    "for root, dirs, files in os.walk(\".\", topdown=False):\n",
    "   # for name in files:\n",
    "   #    print(os.path.join(root, name))\n",
    "   for name in dirs:\n",
    "      print(os.path.join(root, name))"
   ]
  },
  {
   "cell_type": "markdown",
   "metadata": {},
   "source": [
    "## Get assembly stats\n",
    "From assembly_stat_report.tsv get:\n",
    "- Total sequence count"
   ]
  },
  {
   "cell_type": "code",
   "execution_count": 66,
   "metadata": {},
   "outputs": [],
   "source": [
    "import pandas as pd\n",
    "\n",
    "def assembly(root, name):\n",
    "\n",
    "    assembly_stat = pd.read_csv(os.path.join(root, name)+'/assembly_stat_report.tsv', sep=\"\t\")\n",
    "\n",
    "    return assembly_stat[\"Total_seqs\"][0], assembly_stat[\"Total_len(bp)\"][0]\n"
   ]
  },
  {
   "cell_type": "markdown",
   "metadata": {},
   "source": [
    "## Get longest conting"
   ]
  },
  {
   "cell_type": "code",
   "execution_count": 3,
   "metadata": {},
   "outputs": [],
   "source": [
    "def getContig(root, name, longest_contig):\n",
    "\n",
    "    from Bio import SeqIO\n",
    "    \n",
    "    for seq_record in SeqIO.parse(os.path.join(root, name)+'/annot.gbk', \"genbank\"):\n",
    "        if (longest_contig == len(seq_record)):\n",
    "            return seq_record\n",
    "    \n",
    "    return 0"
   ]
  },
  {
   "cell_type": "markdown",
   "metadata": {},
   "source": [
    "## Get predicted taxa\n",
    "\n",
    "Parse ani-tax-report.xml from NCBI RAPT results and get predicted bacteria taxonomical name"
   ]
  },
  {
   "cell_type": "code",
   "execution_count": 65,
   "metadata": {},
   "outputs": [],
   "source": [
    "from lxml import etree\n",
    "\n",
    "def getTaxa(root, name):\n",
    "\n",
    "    if \".git/\" in os.path.join(root, name):\n",
    "            return\n",
    "    tree = etree.parse(os.path.join(root, name)+'/ani-tax-report.xml')\n",
    "\n",
    "    # print(len(tree.error_log))\n",
    "    tree.getroot()\n",
    "\n",
    "    result = etree.tostring(tree.getroot(),pretty_print=True, method=\"html\")\n",
    "    result\n",
    "\n",
    "    submitted_taxid = tree.getroot()[0][0]\n",
    "    predicted_taxid = tree.getroot()[0][1]\n",
    "    \n",
    "    \n",
    "    return submitted_taxid, predicted_taxid, tree.getroot()[1][0].get(\"ANI\"), tree.getroot()[1][0].get(\"query_pct_coverage\"), tree.getroot()[1][0].get(\"subject_pct_coverage\"), tree.getroot()[1][0].get(\"asm_accession\") "
   ]
  },
  {
   "cell_type": "markdown",
   "metadata": {},
   "source": [
    "## Create summary files"
   ]
  },
  {
   "cell_type": "code",
   "execution_count": null,
   "metadata": {},
   "outputs": [],
   "source": [
    "# Print Results\n",
    "import csv\n",
    "import sys\n",
    "import os\n",
    "\n",
    "header = ['Sample Name','predicted_taxid (NCBI)', 'submitted_taxid (Kraken)', 'Predicted taxa confidance', 'Average Nucleotide Identity (ANI)' , \"query_pct_coverage\", \"Subject coverage\" ,'Conting Count', 'Total Sequence Length', \"Accession number\"] # 'CDSs', 'rRNAs']\n",
    "\n",
    "# create DataFrame with samples names and result ID_s\n",
    "file_names = pd.read_csv('NCBI_rez_names.csv', sep=\",\")\n",
    "\n",
    "with open('anotationStat.csv', 'w', encoding='UTF8', newline='') as f:\n",
    "    writer = csv.writer(f)\n",
    "    writer.writerow(header)\n",
    "\n",
    "    for root, dirs, files in os.walk(\".\", topdown=False):\n",
    "        for name in dirs:\n",
    "\n",
    "            # os.walk includes .git subdirectories. Only RAPT result folders needed, so rest should be ignored\n",
    "            if \".git\" in os.path.join(root, name):\n",
    "                continue\n",
    "\n",
    "            print('parse:',os.path.join(root, name))\n",
    "            \n",
    "            submitted_taxid, predicted_taxid, ani, query_pct_coverage, subj_pct_coverage, asm_accession = getTaxa(root, name)\n",
    "            print(submitted_taxid.tag, \":\", submitted_taxid.get(\"org-name\"), \"({})\".format(submitted_taxid.get(\"rank\")))\n",
    "            print(predicted_taxid.tag, \":\", predicted_taxid.get(\"org-name\"), \"({})\".format(predicted_taxid.get(\"rank\")))\n",
    "                        \n",
    "            totelSeq, total_seq_len = assembly(root, name)\n",
    "\n",
    "            print(totelSeq, total_seq_len)\n",
    "\n",
    "\n",
    "            # seq_record = getContig(root, name, longest_contig)\n",
    "            \n",
    "            writer.writerow([file_names.loc[file_names['NCBI RAPT NAME'] == name]['SAMPLE NAME'].item(),predicted_taxid.get(\"org-name\"), submitted_taxid.get(\"org-name\"), \n",
    "            predicted_taxid.get(\"confidence\"), ani, query_pct_coverage, subj_pct_coverage, totelSeq, total_seq_len, asm_accession ])\n",
    "\n",
    "            "
   ]
  },
  {
   "cell_type": "markdown",
   "metadata": {},
   "source": [
    "## Get gene products\n",
    "\n",
    "Parse .gbk file and extract Gene; CDS; rRNA; tRNA; ncRNA; products"
   ]
  },
  {
   "cell_type": "code",
   "execution_count": null,
   "metadata": {},
   "outputs": [],
   "source": [
    "import csv\n",
    "import sys\n",
    "import os\n",
    "from Bio import SeqIO\n",
    "import pandas as pd\n",
    "\n",
    "for root, dirs, files in os.walk(\"/home/edgars.liepa/Becteria result\", topdown=False):    \n",
    "    for name in dirs:\n",
    "    \n",
    "        # os.walk includes .git subdirectories. Only RAPT result folders needed, so rest should be ignored\n",
    "        if \".git\" in os.path.join(root, name):\n",
    "            continue\n",
    "    \n",
    "        print('parse:',os.path.join(root, name))\n",
    "        \n",
    "        contigs = pd.DataFrame()\n",
    "\n",
    "        for record in SeqIO.parse(os.path.join(root, name)+'/annot.gbk', \"genbank\"):\n",
    "\n",
    "            print(record.id)\n",
    "            products = []\n",
    "\n",
    "            for feature in record.features:\n",
    "                \n",
    "                if ('product') in feature.qualifiers:\n",
    "                    print(feature.type, feature.qualifiers['product'], feature.location)\n",
    "                    product = feature.type + str(feature.qualifiers['product'])+ str(feature.location)\n",
    "                    products.append(product)\n",
    "\n",
    "        contigs = pd.concat([contigs, pd.DataFrame({record.id: products})], axis=1)\n",
    "        contigs.to_excel(os.path.join(root, name)+\"/geneProducts.xlsx\")"
   ]
  }
 ],
 "metadata": {
  "kernelspec": {
   "display_name": "Python 3.10.7 64-bit",
   "language": "python",
   "name": "python3"
  },
  "language_info": {
   "codemirror_mode": {
    "name": "ipython",
    "version": 3
   },
   "file_extension": ".py",
   "mimetype": "text/x-python",
   "name": "python",
   "nbconvert_exporter": "python",
   "pygments_lexer": "ipython3",
   "version": "3.10.7"
  },
  "orig_nbformat": 4,
  "vscode": {
   "interpreter": {
    "hash": "31f2aee4e71d21fbe5cf8b01ff0e069b9275f58929596ceb00d14d90e3e16cd6"
   }
  }
 },
 "nbformat": 4,
 "nbformat_minor": 2
}
