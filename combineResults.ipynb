{
 "cells": [
  {
   "cell_type": "markdown",
   "metadata": {},
   "source": [
    "# Description\n",
    "\n",
    "Create summary from NCBI RAPT pipeline results files.\n",
    "\n",
    "**IN:** Result folders from NCBI RAPT pipline with:\n",
    "- assembly_stat_report.tsv\n",
    "- annot.gbk\n",
    "- ani-tax-report.xml\n",
    "\n",
    "**Out:**\n",
    "    CSV summary"
   ]
  },
  {
   "cell_type": "code",
   "execution_count": 106,
   "metadata": {},
   "outputs": [
    {
     "name": "stdout",
     "output_type": "stream",
     "text": [
      "./557259f-w06-e272_output\n",
      "./41c95d3-5sy-4c24_output\n",
      "./9095857-87h-bf63_output\n",
      "./1c93b92-daa-0119_output\n",
      "./c6376e7-zs3-f15e_output\n",
      "./9f88d34-den-f79d_output\n",
      "./14030d9-c6s-2d8b_output\n",
      "./0d0a7f5-ohp-5f3f_output\n",
      "./299ef09-kfr-1d26_output\n",
      "./20670e9-ygs-94d0_output\n",
      "./65e1f2c-266-3d1c_output\n",
      "./2bccc4b-h24-b74f_output\n",
      "./9c12216-8k1-c82a_output\n",
      "./ceeec5e-wku-15fe_output\n",
      "./95ed6de-u4q-0073_output\n",
      "./ebada13-1sc-998b_output\n",
      "./1a7b916-oyi-74d4_output\n",
      "./584b677-23z-4771_output\n",
      "./4284c3c-28h-6025_output\n",
      "./3dc10cd-rma-91cd_output\n",
      "./bab69c5-y4f-1d90_output\n",
      "./9bbd667-cdx-18d2_output\n",
      "./4064a86-wfd-7fdf_output\n",
      "./4a77690-ln9-205f_output\n",
      "./06543a2-xjb-58b4_output\n",
      "./de99f17-h2m-9975_output\n",
      "./3a960cc-z7g-6efb_output\n",
      "./a128c84-v7q-266f_output\n",
      "./5fcf272-f3y-4925_output\n",
      "./9289583-236-4b70_output\n",
      "./ab5ce9f-ki7-eb16_output\n",
      "./ac828eb-jdv-3aee_output\n",
      "./deca316-tnh-9af8_output\n"
     ]
    }
   ],
   "source": [
    "# Get list of foldes in local directory with sample results\n",
    "import os\n",
    "for root, dirs, files in os.walk(\".\", topdown=False):\n",
    "   # for name in files:\n",
    "   #    print(os.path.join(root, name))\n",
    "   for name in dirs:\n",
    "      print(os.path.join(root, name))"
   ]
  },
  {
   "cell_type": "markdown",
   "metadata": {},
   "source": [
    "## Get assembly stats\n",
    "From assembly_stat_report.tsv get:\n",
    "- Total sequence count"
   ]
  },
  {
   "cell_type": "code",
   "execution_count": 119,
   "metadata": {},
   "outputs": [],
   "source": [
    "import pandas as pd\n",
    "\n",
    "def assembly(root, name):\n",
    "\n",
    "    assembly_stat = pd.read_csv(os.path.join(root, name)+'/assembly_stat_report.tsv', sep=\"\t\")\n",
    "\n",
    "    return assembly_stat[\"Total_seqs\"][0], assembly_stat[\"Max_seq_len(bp)\"][0]\n"
   ]
  },
  {
   "cell_type": "markdown",
   "metadata": {},
   "source": [
    "## Get longest conting"
   ]
  },
  {
   "cell_type": "code",
   "execution_count": 110,
   "metadata": {},
   "outputs": [],
   "source": [
    "def getContig(root, name, longest_contig):\n",
    "\n",
    "    from Bio import SeqIO\n",
    "    \n",
    "    for seq_record in SeqIO.parse(os.path.join(root, name)+'/annot.gbk', \"genbank\"):\n",
    "        if (longest_contig[0] == len(seq_record)):\n",
    "            # print(seq_record.id)\n",
    "            # print(repr(seq_record.seq))\n",
    "            # print(len(seq_record))\n",
    "            return seq_record\n",
    "    \n",
    "    return 0"
   ]
  },
  {
   "cell_type": "markdown",
   "metadata": {},
   "source": [
    "## Get predicted taxa"
   ]
  },
  {
   "cell_type": "code",
   "execution_count": 117,
   "metadata": {},
   "outputs": [],
   "source": [
    "from lxml import etree\n",
    "\n",
    "def getTaxa(root, name):\n",
    "\n",
    "    tree = etree.parse(os.path.join(root, name)+'/ani-tax-report.xml')\n",
    "\n",
    "    # print(len(tree.error_log))\n",
    "    tree.getroot()\n",
    "\n",
    "    result = etree.tostring(tree.getroot(),pretty_print=True, method=\"html\")\n",
    "    result\n",
    "\n",
    "    submitted_taxid = tree.getroot()[0][0]\n",
    "    predicted_taxid = tree.getroot()[0][1]\n",
    "    \n",
    "    return submitted_taxid, predicted_taxid"
   ]
  },
  {
   "cell_type": "markdown",
   "metadata": {},
   "source": [
    "## Create summary file"
   ]
  },
  {
   "cell_type": "code",
   "execution_count": 125,
   "metadata": {},
   "outputs": [
    {
     "name": "stdout",
     "output_type": "stream",
     "text": [
      "parse: ./557259f-w06-e272_output\n",
      "submitted-taxid : Bacillus pumilus (species)\n",
      "predicted-taxid : Bacillus pumilus (species)\n",
      "0    734\n",
      "Name: Total_seqs, dtype: int64 0    60095\n",
      "Name: Max_seq_len(bp), dtype: int64\n",
      "Contig_392_27.4353\n",
      "Seq('CTGCTCAGTGAGAGCGGCTTTCATTATGCAGAGAAATCATTCCGATTATTAAGC...CCA')\n",
      "60095\n",
      "parse: ./41c95d3-5sy-4c24_output\n",
      "submitted-taxid : Pseudomonas fluorescens (species)\n",
      "predicted-taxid : Pseudomonas kilonensis (species)\n",
      "0    581\n",
      "Name: Total_seqs, dtype: int64 0    117321\n",
      "Name: Max_seq_len(bp), dtype: int64\n",
      "Contig_117_21.2459\n",
      "Seq('ATGCCTTGAGGAAATCCACTGCTTCATGGATCTCTCTGATCTCGACGATCCCCG...TTA')\n",
      "117321\n",
      "parse: ./9095857-87h-bf63_output\n",
      "submitted-taxid : Streptomyces (genus)\n",
      "predicted-taxid : [Kitasatospora] papulosa (species)\n",
      "0    2433\n",
      "Name: Total_seqs, dtype: int64 0    31978\n",
      "Name: Max_seq_len(bp), dtype: int64\n",
      "Contig_1796_19.7675\n",
      "Seq('GGCCGGGAAGAGCGCGAGGGAGACGGCGGTCGGGTAGCAGCCGGGCACGGCGAT...CCC')\n",
      "31978\n",
      "parse: ./1c93b92-daa-0119_output\n",
      "submitted-taxid : Streptomyces (genus)\n",
      "predicted-taxid : Streptomyces albidoflavus (species)\n",
      "0    2769\n",
      "Name: Total_seqs, dtype: int64 0    31108\n",
      "Name: Max_seq_len(bp), dtype: int64\n"
     ]
    },
    {
     "ename": "KeyboardInterrupt",
     "evalue": "",
     "output_type": "error",
     "traceback": [
      "\u001b[0;31m---------------------------------------------------------------------------\u001b[0m",
      "\u001b[0;31mKeyboardInterrupt\u001b[0m                         Traceback (most recent call last)",
      "\u001b[1;32m/home/edgars.liepa/Becteria result/combineResults.ipynb Cell 10\u001b[0m in \u001b[0;36m<cell line: 8>\u001b[0;34m()\u001b[0m\n\u001b[1;32m     <a href='vscode-notebook-cell://ssh-remote%2Bsizif.biomed.lu.lv/home/edgars.liepa/Becteria%20result/combineResults.ipynb#X15sdnNjb2RlLXJlbW90ZQ%3D%3D?line=19'>20</a>\u001b[0m totelSeq, longest_contig \u001b[39m=\u001b[39m assembly(root, name)\n\u001b[1;32m     <a href='vscode-notebook-cell://ssh-remote%2Bsizif.biomed.lu.lv/home/edgars.liepa/Becteria%20result/combineResults.ipynb#X15sdnNjb2RlLXJlbW90ZQ%3D%3D?line=21'>22</a>\u001b[0m \u001b[39mprint\u001b[39m(totelSeq, longest_contig)\n\u001b[0;32m---> <a href='vscode-notebook-cell://ssh-remote%2Bsizif.biomed.lu.lv/home/edgars.liepa/Becteria%20result/combineResults.ipynb#X15sdnNjb2RlLXJlbW90ZQ%3D%3D?line=24'>25</a>\u001b[0m seq_record \u001b[39m=\u001b[39m getContig(root, name, longest_contig)\n\u001b[1;32m     <a href='vscode-notebook-cell://ssh-remote%2Bsizif.biomed.lu.lv/home/edgars.liepa/Becteria%20result/combineResults.ipynb#X15sdnNjb2RlLXJlbW90ZQ%3D%3D?line=26'>27</a>\u001b[0m writer\u001b[39m.\u001b[39mwriterow([predicted_taxid\u001b[39m.\u001b[39mget(\u001b[39m\"\u001b[39m\u001b[39morg-name\u001b[39m\u001b[39m\"\u001b[39m), submitted_taxid\u001b[39m.\u001b[39mget(\u001b[39m\"\u001b[39m\u001b[39morg-name\u001b[39m\u001b[39m\"\u001b[39m), totelSeq[\u001b[39m0\u001b[39m], longest_contig[\u001b[39m0\u001b[39m], \u001b[39mstr\u001b[39m(seq_record\u001b[39m.\u001b[39mseq) ])\n",
      "\u001b[1;32m/home/edgars.liepa/Becteria result/combineResults.ipynb Cell 10\u001b[0m in \u001b[0;36mgetContig\u001b[0;34m(root, name, longest_contig)\u001b[0m\n\u001b[1;32m      <a href='vscode-notebook-cell://ssh-remote%2Bsizif.biomed.lu.lv/home/edgars.liepa/Becteria%20result/combineResults.ipynb#X15sdnNjb2RlLXJlbW90ZQ%3D%3D?line=0'>1</a>\u001b[0m \u001b[39mdef\u001b[39;00m \u001b[39mgetContig\u001b[39m(root, name, longest_contig):\n\u001b[1;32m      <a href='vscode-notebook-cell://ssh-remote%2Bsizif.biomed.lu.lv/home/edgars.liepa/Becteria%20result/combineResults.ipynb#X15sdnNjb2RlLXJlbW90ZQ%3D%3D?line=2'>3</a>\u001b[0m     \u001b[39mfrom\u001b[39;00m \u001b[39mBio\u001b[39;00m \u001b[39mimport\u001b[39;00m SeqIO\n\u001b[0;32m----> <a href='vscode-notebook-cell://ssh-remote%2Bsizif.biomed.lu.lv/home/edgars.liepa/Becteria%20result/combineResults.ipynb#X15sdnNjb2RlLXJlbW90ZQ%3D%3D?line=3'>4</a>\u001b[0m     \u001b[39mfor\u001b[39;00m seq_record \u001b[39min\u001b[39;00m SeqIO\u001b[39m.\u001b[39mparse(os\u001b[39m.\u001b[39mpath\u001b[39m.\u001b[39mjoin(root, name)\u001b[39m+\u001b[39m\u001b[39m'\u001b[39m\u001b[39m/annot.gbk\u001b[39m\u001b[39m'\u001b[39m, \u001b[39m\"\u001b[39m\u001b[39mgenbank\u001b[39m\u001b[39m\"\u001b[39m):\n\u001b[1;32m      <a href='vscode-notebook-cell://ssh-remote%2Bsizif.biomed.lu.lv/home/edgars.liepa/Becteria%20result/combineResults.ipynb#X15sdnNjb2RlLXJlbW90ZQ%3D%3D?line=4'>5</a>\u001b[0m         \u001b[39mif\u001b[39;00m (longest_contig[\u001b[39m0\u001b[39m] \u001b[39m==\u001b[39m \u001b[39mlen\u001b[39m(seq_record)):\n\u001b[1;32m      <a href='vscode-notebook-cell://ssh-remote%2Bsizif.biomed.lu.lv/home/edgars.liepa/Becteria%20result/combineResults.ipynb#X15sdnNjb2RlLXJlbW90ZQ%3D%3D?line=5'>6</a>\u001b[0m             \u001b[39mprint\u001b[39m(seq_record\u001b[39m.\u001b[39mid)\n",
      "File \u001b[0;32m~/miniconda3/lib/python3.8/site-packages/Bio/SeqIO/Interfaces.py:74\u001b[0m, in \u001b[0;36mSequenceIterator.__next__\u001b[0;34m(self)\u001b[0m\n\u001b[1;32m     72\u001b[0m \u001b[39mdef\u001b[39;00m \u001b[39m__next__\u001b[39m(\u001b[39mself\u001b[39m):\n\u001b[1;32m     73\u001b[0m     \u001b[39mtry\u001b[39;00m:\n\u001b[0;32m---> 74\u001b[0m         \u001b[39mreturn\u001b[39;00m \u001b[39mnext\u001b[39;49m(\u001b[39mself\u001b[39;49m\u001b[39m.\u001b[39;49mrecords)\n\u001b[1;32m     75\u001b[0m     \u001b[39mexcept\u001b[39;00m \u001b[39mException\u001b[39;00m:\n\u001b[1;32m     76\u001b[0m         \u001b[39mif\u001b[39;00m \u001b[39mself\u001b[39m\u001b[39m.\u001b[39mshould_close_stream:\n",
      "File \u001b[0;32m~/miniconda3/lib/python3.8/site-packages/Bio/GenBank/Scanner.py:516\u001b[0m, in \u001b[0;36mInsdcScanner.parse_records\u001b[0;34m(self, handle, do_features)\u001b[0m\n\u001b[1;32m    514\u001b[0m \u001b[39mwith\u001b[39;00m as_handle(handle) \u001b[39mas\u001b[39;00m handle:\n\u001b[1;32m    515\u001b[0m     \u001b[39mwhile\u001b[39;00m \u001b[39mTrue\u001b[39;00m:\n\u001b[0;32m--> 516\u001b[0m         record \u001b[39m=\u001b[39m \u001b[39mself\u001b[39;49m\u001b[39m.\u001b[39;49mparse(handle, do_features)\n\u001b[1;32m    517\u001b[0m         \u001b[39mif\u001b[39;00m record \u001b[39mis\u001b[39;00m \u001b[39mNone\u001b[39;00m:\n\u001b[1;32m    518\u001b[0m             \u001b[39mbreak\u001b[39;00m\n",
      "File \u001b[0;32m~/miniconda3/lib/python3.8/site-packages/Bio/GenBank/Scanner.py:499\u001b[0m, in \u001b[0;36mInsdcScanner.parse\u001b[0;34m(self, handle, do_features)\u001b[0m\n\u001b[1;32m    493\u001b[0m \u001b[39mfrom\u001b[39;00m \u001b[39mBio\u001b[39;00m\u001b[39m.\u001b[39;00m\u001b[39mGenBank\u001b[39;00m\u001b[39m.\u001b[39;00m\u001b[39mutils\u001b[39;00m \u001b[39mimport\u001b[39;00m FeatureValueCleaner\n\u001b[1;32m    495\u001b[0m consumer \u001b[39m=\u001b[39m _FeatureConsumer(\n\u001b[1;32m    496\u001b[0m     use_fuzziness\u001b[39m=\u001b[39m\u001b[39m1\u001b[39m, feature_cleaner\u001b[39m=\u001b[39mFeatureValueCleaner()\n\u001b[1;32m    497\u001b[0m )\n\u001b[0;32m--> 499\u001b[0m \u001b[39mif\u001b[39;00m \u001b[39mself\u001b[39;49m\u001b[39m.\u001b[39;49mfeed(handle, consumer, do_features):\n\u001b[1;32m    500\u001b[0m     \u001b[39mreturn\u001b[39;00m consumer\u001b[39m.\u001b[39mdata\n\u001b[1;32m    501\u001b[0m \u001b[39melse\u001b[39;00m:\n",
      "File \u001b[0;32m~/miniconda3/lib/python3.8/site-packages/Bio/GenBank/Scanner.py:475\u001b[0m, in \u001b[0;36mInsdcScanner.feed\u001b[0;34m(self, handle, consumer, do_features)\u001b[0m\n\u001b[1;32m    472\u001b[0m     \u001b[39mself\u001b[39m\u001b[39m.\u001b[39mparse_features(skip\u001b[39m=\u001b[39m\u001b[39mTrue\u001b[39;00m)  \u001b[39m# ignore the data\u001b[39;00m\n\u001b[1;32m    474\u001b[0m \u001b[39m# Footer and sequence\u001b[39;00m\n\u001b[0;32m--> 475\u001b[0m misc_lines, sequence_string \u001b[39m=\u001b[39m \u001b[39mself\u001b[39;49m\u001b[39m.\u001b[39;49mparse_footer()\n\u001b[1;32m    476\u001b[0m \u001b[39mself\u001b[39m\u001b[39m.\u001b[39m_feed_misc_lines(consumer, misc_lines)\n\u001b[1;32m    478\u001b[0m consumer\u001b[39m.\u001b[39msequence(sequence_string)\n",
      "File \u001b[0;32m~/miniconda3/lib/python3.8/site-packages/Bio/GenBank/Scanner.py:1201\u001b[0m, in \u001b[0;36mGenBankScanner.parse_footer\u001b[0;34m(self)\u001b[0m\n\u001b[1;32m   1196\u001b[0m     \u001b[39mraise\u001b[39;00m \u001b[39mValueError\u001b[39;00m(\u001b[39m\"\u001b[39m\u001b[39mFooter format unexpected:  \u001b[39m\u001b[39m'\u001b[39m\u001b[39m%s\u001b[39;00m\u001b[39m'\u001b[39m\u001b[39m\"\u001b[39m \u001b[39m%\u001b[39m \u001b[39mself\u001b[39m\u001b[39m.\u001b[39mline)\n\u001b[1;32m   1198\u001b[0m misc_lines \u001b[39m=\u001b[39m []\n\u001b[1;32m   1199\u001b[0m \u001b[39mwhile\u001b[39;00m (\n\u001b[1;32m   1200\u001b[0m     \u001b[39mself\u001b[39m\u001b[39m.\u001b[39mline[: \u001b[39mself\u001b[39m\u001b[39m.\u001b[39mHEADER_WIDTH]\u001b[39m.\u001b[39mrstrip() \u001b[39min\u001b[39;00m \u001b[39mself\u001b[39m\u001b[39m.\u001b[39mSEQUENCE_HEADERS\n\u001b[0;32m-> 1201\u001b[0m     \u001b[39mor\u001b[39;00m \u001b[39mself\u001b[39m\u001b[39m.\u001b[39mline[: \u001b[39mself\u001b[39m\u001b[39m.\u001b[39mHEADER_WIDTH] \u001b[39m==\u001b[39m \u001b[39m\"\u001b[39;49m\u001b[39m \u001b[39;49m\u001b[39m\"\u001b[39;49m \u001b[39m*\u001b[39;49m \u001b[39mself\u001b[39;49m\u001b[39m.\u001b[39;49mHEADER_WIDTH\n\u001b[1;32m   1202\u001b[0m     \u001b[39mor\u001b[39;00m \u001b[39m\"\u001b[39m\u001b[39mWGS\u001b[39m\u001b[39m\"\u001b[39m \u001b[39m==\u001b[39m \u001b[39mself\u001b[39m\u001b[39m.\u001b[39mline[:\u001b[39m3\u001b[39m]\n\u001b[1;32m   1203\u001b[0m ):\n\u001b[1;32m   1204\u001b[0m     misc_lines\u001b[39m.\u001b[39mappend(\u001b[39mself\u001b[39m\u001b[39m.\u001b[39mline\u001b[39m.\u001b[39mrstrip())\n\u001b[1;32m   1205\u001b[0m     \u001b[39mself\u001b[39m\u001b[39m.\u001b[39mline \u001b[39m=\u001b[39m \u001b[39mself\u001b[39m\u001b[39m.\u001b[39mhandle\u001b[39m.\u001b[39mreadline()\n",
      "\u001b[0;31mKeyboardInterrupt\u001b[0m: "
     ]
    }
   ],
   "source": [
    "# Print Results\n",
    "import csv\n",
    "import sys\n",
    "import os\n",
    "\n",
    "header = ['predicted_taxid', 'submitted_taxid', 'Conting Count', 'largest contig (bp)', 'largest contig (seq)'] # 'CDSs', 'rRNAs']\n",
    "\n",
    "with open('mutations.csv', 'w', encoding='UTF8', newline='') as f:\n",
    "    writer = csv.writer(f)\n",
    "    writer.writerow(header)\n",
    "\n",
    "    for root, dirs, files in os.walk(\".\", topdown=False):\n",
    "        for name in dirs:\n",
    "            print('parse:',os.path.join(root, name))\n",
    "            \n",
    "            submitted_taxid, predicted_taxid = getTaxa(root, name)\n",
    "            print(submitted_taxid.tag, \":\", submitted_taxid.get(\"org-name\"), \"({})\".format(submitted_taxid.get(\"rank\")))\n",
    "            print(predicted_taxid.tag, \":\", predicted_taxid.get(\"org-name\"), \"({})\".format(predicted_taxid.get(\"rank\")))\n",
    "            \n",
    "            totelSeq, longest_contig = assembly(root, name)\n",
    "\n",
    "            print(totelSeq, longest_contig)\n",
    "\n",
    "\n",
    "            seq_record = getContig(root, name, longest_contig)\n",
    "            \n",
    "            writer.writerow([predicted_taxid.get(\"org-name\"), submitted_taxid.get(\"org-name\"), totelSeq[0], longest_contig[0], str(seq_record.seq) ])\n",
    "\n",
    "            \n",
    "\n",
    "\n",
    "    # for index, position in enumerate(mutationList):\n",
    "    #     for aa in  position.keys(predicted_taxid.get(\"org-name\")):\n",
    "    #         if position[aa] != 0:\n",
    "    #             print(\"Postion: \", index+1, \"aaSubst: \", aa, \"Count: \", position[aa])\n",
    "    #             writer.writerow([index+1, aa, position[aa]])"
   ]
  },
  {
   "cell_type": "code",
   "execution_count": null,
   "metadata": {},
   "outputs": [],
   "source": []
  }
 ],
 "metadata": {
  "kernelspec": {
   "display_name": "Python 3.8.13 ('base': conda)",
   "language": "python",
   "name": "python3"
  },
  "language_info": {
   "codemirror_mode": {
    "name": "ipython",
    "version": 3
   },
   "file_extension": ".py",
   "mimetype": "text/x-python",
   "name": "python",
   "nbconvert_exporter": "python",
   "pygments_lexer": "ipython3",
   "version": "3.8.13"
  },
  "orig_nbformat": 4,
  "vscode": {
   "interpreter": {
    "hash": "fa3f92f62972556a5b4eb57bb9e82e331ef4803e6a0b659eaab43d8b17d4b006"
   }
  }
 },
 "nbformat": 4,
 "nbformat_minor": 2
}
